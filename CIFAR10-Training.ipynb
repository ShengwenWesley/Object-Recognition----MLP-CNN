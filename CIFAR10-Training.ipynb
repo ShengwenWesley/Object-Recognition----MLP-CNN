{
 "cells": [
  {
   "cell_type": "code",
   "execution_count": 1,
   "id": "dfbdb331-974b-4538-899d-60fb15327307",
   "metadata": {},
   "outputs": [],
   "source": [
    "import torch\n",
    "import torch.nn as nn\n",
    "import torch.nn.functional as F\n",
    "from torch.utils.data import Dataset, DataLoader\n",
    "from torchvision import transforms\n",
    "from PIL import Image\n",
    "from torchvision import datasets\n",
    "import matplotlib.pyplot as plt"
   ]
  },
  {
   "cell_type": "markdown",
   "id": "b797cd3b-572a-477c-b5fb-c07124710a71",
   "metadata": {},
   "source": [
    "# Import Data #"
   ]
  },
  {
   "cell_type": "code",
   "execution_count": 2,
   "id": "797d92d7-13fb-420b-9260-c58c59906e3e",
   "metadata": {},
   "outputs": [
    {
     "name": "stdout",
     "output_type": "stream",
     "text": [
      "Files already downloaded and verified\n",
      "Files already downloaded and verified\n"
     ]
    }
   ],
   "source": [
    "data_path = '../data-unversioned/p1ch7/'\n",
    "cifar10 = datasets.CIFAR10(data_path, train=True, download=True)\n",
    "cifar10_val = datasets.CIFAR10(data_path, train=False, download=True)"
   ]
  },
  {
   "cell_type": "code",
   "execution_count": 3,
   "id": "22b3a77e-f18c-4153-a9bb-473f6dbc8f3a",
   "metadata": {},
   "outputs": [
    {
     "name": "stdout",
     "output_type": "stream",
     "text": [
      "10000\n",
      "0\n"
     ]
    },
    {
     "data": {
      "image/png": "[encoded data removed]",
      "text/plain": [
       "<Figure size 640x480 with 1 Axes>"
      ]
     },
     "metadata": {},
     "output_type": "display_data"
    }
   ],
   "source": [
    "print(len(cifar10_val))\n",
    "img, label = cifar10[10010]\n",
    "print(label)\n",
    "plt.imshow(img)\n",
    "plt.show()"
   ]
  },
  {
   "cell_type": "markdown",
   "id": "990fbc2f-57c4-4dd9-9d6e-2a63376a65d9",
   "metadata": {},
   "source": [
    "## Preprocessing Data ## "
   ]
  },
  {
   "cell_type": "code",
   "execution_count": 5,
   "id": "63710722-aafb-4d4f-a2b8-2ee3bea00d16",
   "metadata": {},
   "outputs": [],
   "source": [
    "# change all image data into tensor and stack them together into a large 4D tensor, \n",
    "# calculate the mean of the data\n",
    "totensor = transforms.ToTensor()\n",
    "tensor_x_cifar10 = torch.stack([totensor(i) for i,_ in cifar10],dim = 3)\n",
    "tensor_y_cifar10 = torch.stack([torch.tensor(i) for _,i in cifar10])\n",
    "mean = tensor_x_cifar10.view(3,-1).mean(dim=1)\n",
    "std = tensor_x_cifar10.view(3,-1).std(dim=1)"
   ]
  },
  {
   "cell_type": "code",
   "execution_count": 6,
   "id": "edeb9081-16e4-4ece-bcce-43dcf8962412",
   "metadata": {},
   "outputs": [
    {
     "data": {
      "text/plain": [
       "(tensor([0.4914, 0.4822, 0.4465]), tensor([0.2470, 0.2435, 0.2616]))"
      ]
     },
     "execution_count": 6,
     "metadata": {},
     "output_type": "execute_result"
    }
   ],
   "source": [
    "mean.data, std.data \n",
    "# show mean and std\n",
    "# for further reimporting transformed & normalized data\n",
    "# this reimporting apporach only works for torch official dataset"
   ]
  },
  {
   "cell_type": "code",
   "execution_count": 7,
   "id": "c5738b1e-e6fa-4e40-a792-669170df5bf2",
   "metadata": {},
   "outputs": [
    {
     "name": "stdout",
     "output_type": "stream",
     "text": [
      "Files already downloaded and verified\n",
      "Files already downloaded and verified\n"
     ]
    }
   ],
   "source": [
    "# set transforming metrics and reimport\n",
    "transform = transforms.Compose(\n",
    "    [transforms.ToTensor(),\n",
    "     transforms.Normalize((0.4914, 0.4822, 0.4465),(0.2470, 0.2435, 0.2616))]\n",
    "                               )\n",
    "data_path = '../data-unversioned/p1ch7/'\n",
    "training_Set = datasets.CIFAR10(data_path, train=True, download=True,transform=transform)\n",
    "testing_Set = datasets.CIFAR10(data_path,train=False,download=True,transform=transform)\n",
    "classes = ('plane', 'car', 'bird', 'cat',\n",
    "           'deer', 'dog', 'frog', 'horse', 'ship', 'truck')"
   ]
  },
  {
   "cell_type": "markdown",
   "id": "965cae69-4b43-4777-89e8-128b94fedbe1",
   "metadata": {},
   "source": [
    "## Torch Dataset ##"
   ]
  },
  {
   "cell_type": "code",
   "execution_count": 83,
   "id": "b06e5aae-d5d5-4b60-9738-9d9a3e38360e",
   "metadata": {},
   "outputs": [],
   "source": [
    "# Customized Dataset class that retrieves data and return tensor class of data and label\n",
    "totensor = transforms.ToTensor()  # turn image into tensor of the correct shape (3,32,32)\n",
    "class cifar10Dataset(Dataset):\n",
    "    def __init__(self,data):\n",
    "        self.data = data\n",
    "    def __getitem__(self,idx):\n",
    "        img,label = self.data[idx]\n",
    "        label = torch.tensor(label)\n",
    "        # img = img.view(-1).unsqueeze(0)  # 把img展开成为一个1*3072的2D tensor\n",
    "        # img = torch.flatten(img)\n",
    "        return img, label\n",
    "    def __len__(self):\n",
    "        return len(self.data)   \n",
    "        \n",
    "trainData = cifar10Dataset(training_Set) # 实例化\n",
    "testData = cifar10Dataset(testing_Set)"
   ]
  },
  {
   "cell_type": "markdown",
   "id": "8dd8a058-6dae-44e0-806e-98fa049a4ece",
   "metadata": {},
   "source": [
    "## Random Spilt by Torch utils ## "
   ]
  },
  {
   "cell_type": "code",
   "execution_count": 84,
   "id": "29dff7e2-c48f-465f-ae2f-1617500f4c71",
   "metadata": {},
   "outputs": [],
   "source": [
    "torch.manual_seed(0)  # 随机种子\n",
    "train_len, val_len = [int(len(trainData)*0.7),int(len(trainData)*0.3)]  # 一定要是int的split长度\n",
    "test_len = int(len(testData)*0.9) \n",
    "trash_len = int(len(testData)*0.1) \n",
    "x_train, x_val = torch.utils.data.random_split(dataset=trainData,lengths=[train_len,val_len])  # 长度信息只能传入list\n",
    "x_test,x_trash = torch.utils.data.random_split(dataset=testData,lengths=[test_len,trash_len]) \n",
    "#返回数组,所以设置trash_len,让testdata不是一个数组里的数组"
   ]
  },
  {
   "cell_type": "code",
   "execution_count": 85,
   "id": "270507fd-60e9-4571-8b1d-cb1672087b0d",
   "metadata": {},
   "outputs": [],
   "source": [
    "x_train_dataloader = DataLoader(x_train, batch_size=128,shuffle=True)\n",
    "x_val_dataloader = DataLoader(x_val,batch_size=128,shuffle=True)\n",
    "x_test_dataloader = DataLoader(x_test,batch_size=128,shuffle=True)"
   ]
  },
  {
   "cell_type": "markdown",
   "id": "51078fcf-2f73-49c1-b703-b1d999adf201",
   "metadata": {},
   "source": [
    "# Model Set Up #"
   ]
  },
  {
   "cell_type": "markdown",
   "id": "1f0b29b4-2714-4254-a10e-b9e163c4ebe1",
   "metadata": {},
   "source": [
    "## Multilayer Perceptron - MLP ##"
   ]
  },
  {
   "cell_type": "code",
   "execution_count": 11,
   "id": "bf52f989-b751-47e5-9712-bc6c7468274b",
   "metadata": {},
   "outputs": [],
   "source": [
    "nin_mlp = 3072\n",
    "nout = 10"
   ]
  },
  {
   "cell_type": "code",
   "execution_count": 72,
   "id": "ab41990a-afc0-4506-9b41-7ed8e594d4b2",
   "metadata": {},
   "outputs": [],
   "source": [
    "class MLP(nn.Module):\n",
    "    def __init__(self,nout):\n",
    "        super().__init__()\n",
    "        self.model = nn.Sequential(\n",
    "            nn.Linear(3072,512),\n",
    "            nn.Tanh(),\n",
    "            nn.Linear(512,256),\n",
    "            nn.LeakyReLU(),\n",
    "            nn.Linear(256,128),\n",
    "            nn.Tanh(),\n",
    "            nn.Linear(128,nout)\n",
    "        )\n",
    "    def forward(self,X):\n",
    "        out = self.model(X)\n",
    "        return out"
   ]
  },
  {
   "cell_type": "markdown",
   "id": "084f3536-5d00-491f-b753-d76f8095b494",
   "metadata": {},
   "source": [
    "## Convolutional Neural Network ## "
   ]
  },
  {
   "cell_type": "code",
   "execution_count": 86,
   "id": "7d254f19-cba3-4496-9167-a9b4b33e98f8",
   "metadata": {},
   "outputs": [],
   "source": [
    "class CNN(nn.Module):\n",
    "    def __init__(self,nout):\n",
    "        super().__init__()\n",
    "        self.conv1 = nn.Conv2d(3, 6, 5)\n",
    "        self.pool = nn.MaxPool2d(2, 2)\n",
    "        self.conv2 = nn.Conv2d(6, 16, 5)\n",
    "        self.fc1 = nn.Linear(16 * 5 * 5, 120)\n",
    "        self.fc2 = nn.Linear(120, 84)\n",
    "        self.fc3 = nn.Linear(84, nout)\n",
    "\n",
    "    def forward(self, x):\n",
    "        x = self.pool(F.relu(self.conv1(x)))\n",
    "        x = self.pool(F.relu(self.conv2(x)))\n",
    "        x = torch.flatten(x, 1) # flatten all dimensions except batch\n",
    "        x = F.relu(self.fc1(x))\n",
    "        x = F.relu(self.fc2(x))\n",
    "        x = self.fc3(x)\n",
    "        return x\n",
    "\n"
   ]
  },
  {
   "cell_type": "markdown",
   "id": "799b5b90-c32e-44f5-bc4c-0e2311945b24",
   "metadata": {},
   "source": [
    "# Training Function # "
   ]
  },
  {
   "cell_type": "code",
   "execution_count": 87,
   "id": "3250e9f6-2e51-4726-b17e-9ea923e19f15",
   "metadata": {},
   "outputs": [],
   "source": [
    "number_epoch = []\n",
    "cur_loss = []\n",
    "cur_accuracy = []\n",
    "def train(model,epochs):\n",
    "    loss = nn.CrossEntropyLoss()\n",
    "    optimizer = torch.optim.Adam(model.parameters())\n",
    "    epochs = epochs\n",
    "    for epoch in range(epochs):\n",
    "        sumLoss = 0\n",
    "        correct = 0\n",
    "        accuracy = 0\n",
    "        for x_data,y_data in x_train_dataloader:\n",
    "            optimizer.zero_grad() \n",
    "            y_pred = model(x_data).squeeze()\n",
    "            l = loss(y_pred,y_data)\n",
    "            l.backward() \n",
    "            optimizer.step()\n",
    "            sumLoss += l.item()\n",
    "            _, id = torch.max(y_pred.data, 1)\n",
    "            correct += torch.sum(id == y_data.data)/128 \n",
    "        length = len(x_train_dataloader)\n",
    "        number_epoch.append(epoch)\n",
    "        cur_loss.append(sumLoss / length)\n",
    "        cur_accuracy.append(correct/length * 100)\n",
    "        print(\"Epochs: %d .. Loss: % .3f .. Accuracy: %.3f %%\" %(epoch+1,sumLoss/length,correct/length *100))"
   ]
  },
  {
   "cell_type": "markdown",
   "id": "5a701eee-cf62-4535-b7c7-29d8bb50afec",
   "metadata": {},
   "source": [
    "# Training #"
   ]
  },
  {
   "cell_type": "code",
   "execution_count": 74,
   "id": "08e3352a-406d-4fba-987e-3d9eec739df2",
   "metadata": {},
   "outputs": [
    {
     "name": "stdout",
     "output_type": "stream",
     "text": [
      "Epochs: 1 .. Loss:  1.724 .. Accuracy: 38.124 %\n",
      "Epochs: 2 .. Loss:  1.561 .. Accuracy: 44.289 %\n",
      "Epochs: 3 .. Loss:  1.491 .. Accuracy: 46.849 %\n",
      "Epochs: 4 .. Loss:  1.440 .. Accuracy: 48.600 %\n",
      "Epochs: 5 .. Loss:  1.393 .. Accuracy: 50.125 %\n",
      "Epochs: 6 .. Loss:  1.354 .. Accuracy: 51.831 %\n",
      "Epochs: 7 .. Loss:  1.313 .. Accuracy: 53.404 %\n",
      "Epochs: 8 .. Loss:  1.281 .. Accuracy: 54.468 %\n",
      "Epochs: 9 .. Loss:  1.251 .. Accuracy: 55.426 %\n",
      "Epochs: 10 .. Loss:  1.210 .. Accuracy: 57.131 %\n",
      "Epochs: 11 .. Loss:  1.189 .. Accuracy: 57.972 %\n",
      "Epochs: 12 .. Loss:  1.156 .. Accuracy: 59.059 %\n",
      "Epochs: 13 .. Loss:  1.123 .. Accuracy: 60.404 %\n",
      "Epochs: 14 .. Loss:  1.092 .. Accuracy: 61.434 %\n",
      "Epochs: 15 .. Loss:  1.065 .. Accuracy: 62.018 %\n",
      "Epochs: 16 .. Loss:  1.043 .. Accuracy: 62.928 %\n",
      "Epochs: 17 .. Loss:  1.010 .. Accuracy: 64.447 %\n",
      "Epochs: 18 .. Loss:  0.986 .. Accuracy: 65.001 %\n",
      "Epochs: 19 .. Loss:  0.958 .. Accuracy: 66.346 %\n",
      "Epochs: 20 .. Loss:  0.931 .. Accuracy: 67.219 %\n",
      "Epochs: 21 .. Loss:  0.900 .. Accuracy: 68.160 %\n",
      "Epochs: 22 .. Loss:  0.881 .. Accuracy: 68.875 %\n",
      "Epochs: 23 .. Loss:  0.862 .. Accuracy: 69.888 %\n",
      "Epochs: 24 .. Loss:  0.846 .. Accuracy: 70.341 %\n",
      "Epochs: 25 .. Loss:  0.823 .. Accuracy: 71.068 %\n",
      "Epochs: 26 .. Loss:  0.809 .. Accuracy: 71.627 %\n",
      "Epochs: 27 .. Loss:  0.781 .. Accuracy: 72.579 %\n",
      "Epochs: 28 .. Loss:  0.758 .. Accuracy: 73.098 %\n",
      "Epochs: 29 .. Loss:  0.741 .. Accuracy: 73.976 %\n",
      "Epochs: 30 .. Loss:  0.724 .. Accuracy: 74.464 %\n"
     ]
    }
   ],
   "source": [
    "mlp = MLP(nout)\n",
    "train(mlp,30)"
   ]
  },
  {
   "cell_type": "code",
   "execution_count": 88,
   "id": "ed9f004e-e2ce-45ef-a12e-7ca1cbbaf11d",
   "metadata": {},
   "outputs": [
    {
     "name": "stdout",
     "output_type": "stream",
     "text": [
      "Epochs: 1 .. Loss:  1.754 .. Accuracy: 35.567 %\n",
      "Epochs: 2 .. Loss:  1.471 .. Accuracy: 46.570 %\n",
      "Epochs: 3 .. Loss:  1.343 .. Accuracy: 51.491 %\n",
      "Epochs: 4 .. Loss:  1.250 .. Accuracy: 55.332 %\n",
      "Epochs: 5 .. Loss:  1.176 .. Accuracy: 58.126 %\n",
      "Epochs: 6 .. Loss:  1.122 .. Accuracy: 59.746 %\n",
      "Epochs: 7 .. Loss:  1.075 .. Accuracy: 61.536 %\n",
      "Epochs: 8 .. Loss:  1.032 .. Accuracy: 63.005 %\n",
      "Epochs: 9 .. Loss:  0.995 .. Accuracy: 64.616 %\n",
      "Epochs: 10 .. Loss:  0.961 .. Accuracy: 66.010 %\n",
      "Epochs: 11 .. Loss:  0.928 .. Accuracy: 66.848 %\n",
      "Epochs: 12 .. Loss:  0.896 .. Accuracy: 68.140 %\n",
      "Epochs: 13 .. Loss:  0.869 .. Accuracy: 69.055 %\n",
      "Epochs: 14 .. Loss:  0.842 .. Accuracy: 70.047 %\n",
      "Epochs: 15 .. Loss:  0.815 .. Accuracy: 71.003 %\n",
      "Epochs: 16 .. Loss:  0.788 .. Accuracy: 71.995 %\n",
      "Epochs: 17 .. Loss:  0.761 .. Accuracy: 73.004 %\n",
      "Epochs: 18 .. Loss:  0.741 .. Accuracy: 73.697 %\n",
      "Epochs: 19 .. Loss:  0.714 .. Accuracy: 74.661 %\n",
      "Epochs: 20 .. Loss:  0.683 .. Accuracy: 75.559 %\n",
      "Epochs: 21 .. Loss:  0.663 .. Accuracy: 76.420 %\n",
      "Epochs: 22 .. Loss:  0.645 .. Accuracy: 76.802 %\n",
      "Epochs: 23 .. Loss:  0.617 .. Accuracy: 77.985 %\n",
      "Epochs: 24 .. Loss:  0.595 .. Accuracy: 78.898 %\n",
      "Epochs: 25 .. Loss:  0.579 .. Accuracy: 79.357 %\n",
      "Epochs: 26 .. Loss:  0.566 .. Accuracy: 79.568 %\n",
      "Epochs: 27 .. Loss:  0.537 .. Accuracy: 80.888 %\n",
      "Epochs: 28 .. Loss:  0.523 .. Accuracy: 81.236 %\n",
      "Epochs: 29 .. Loss:  0.500 .. Accuracy: 81.991 %\n",
      "Epochs: 30 .. Loss:  0.485 .. Accuracy: 82.505 %\n"
     ]
    }
   ],
   "source": [
    "cnn = CNN(nout)\n",
    "train(cnn,30)"
   ]
  },
  {
   "cell_type": "code",
   "execution_count": 89,
   "id": "1e09e6c1-b32e-4839-a6bc-c4c176fccc83",
   "metadata": {},
   "outputs": [
    {
     "data": {
      "image/png": "[encoded data removed]",
      "text/plain": [
       "<Figure size 640x480 with 1 Axes>"
      ]
     },
     "metadata": {},
     "output_type": "display_data"
    }
   ],
   "source": [
    "plt.plot(number_epoch,cur_loss)\n",
    "plt.show()"
   ]
  },
  {
   "cell_type": "code",
   "execution_count": 90,
   "id": "b9f084c4-e16c-47cc-8a03-d5e92fd5ea5b",
   "metadata": {},
   "outputs": [
    {
     "data": {
      "image/png": "[encoded data removed]",
      "text/plain": [
       "<Figure size 640x480 with 1 Axes>"
      ]
     },
     "metadata": {},
     "output_type": "display_data"
    }
   ],
   "source": [
    "plt.plot(number_epoch,cur_accuracy)\n",
    "plt.show()"
   ]
  },
  {
   "cell_type": "markdown",
   "id": "630b0e4c-d6f2-4739-b1a1-7d38743ed714",
   "metadata": {},
   "source": [
    "# Evaluation #"
   ]
  },
  {
   "cell_type": "code",
   "execution_count": null,
   "id": "0aa57c0f-30f8-439f-a601-9d98417997e0",
   "metadata": {},
   "outputs": [],
   "source": [
    "mlp.eval()\n",
    "loss = nn.CrossEntropyLoss()\n",
    "accuracy = 0.0\n",
    "for x_data,y_data in x_val_dataloader:\n",
    "    y_pred = mlp(x_data).squeeze()\n",
    "    l = loss(y_pred,y_data)\n",
    "    _,id = torch.max(y_pred.data,1)\n",
    "    accuracy += torch.sum(id == y_data.data)/128\n",
    "p = accuracy.item() / len(x_test_dataloader) *100\n",
    "print(\"The Validation set has an accuracy %.1f %%\" %p)"
   ]
  },
  {
   "cell_type": "markdown",
   "id": "0fc946a6-8822-4360-8f40-e30c28d5025d",
   "metadata": {},
   "source": [
    "# Testing # "
   ]
  },
  {
   "cell_type": "code",
   "execution_count": null,
   "id": "3bf3916b-8896-4b8b-b575-d6704c6e7fa5",
   "metadata": {},
   "outputs": [],
   "source": [
    "loss = nn.CrossEntropyLoss()\n",
    "accuracy = 0.0\n",
    "for x_data,y_data in x_test_dataloader:\n",
    "    y_pred = mlp(x_data).squeeze()\n",
    "    l = loss(y_pred,y_data)\n",
    "    _,id = torch.max(y_pred.data,1)\n",
    "    accuracy += torch.sum(id == y_data.data)/128\n",
    "p = accuracy.item() / len(x_test_dataloader) *100\n",
    "print(\"The Test set has an accuracy %.1f %%\" %p)"
   ]
  },
  {
   "cell_type": "markdown",
   "id": "3335a9d4-a9cf-4e81-905b-1563e8be4680",
   "metadata": {},
   "source": [
    "# Demo #"
   ]
  },
  {
   "cell_type": "code",
   "execution_count": 79,
   "id": "412adca8-0aaf-4f1b-acdf-9e5b8eec86d1",
   "metadata": {},
   "outputs": [],
   "source": [
    "img1,label1 = cifar10[11000]\n",
    "img2,label2 = cifar10[15112]\n",
    "img3,label3 = cifar10[37420]"
   ]
  },
  {
   "cell_type": "code",
   "execution_count": 80,
   "id": "830bd7a1-ff8f-489c-8c5b-6b565869bf3c",
   "metadata": {},
   "outputs": [],
   "source": [
    "im1 = trainData[11000]\n",
    "_,id1 = torch.max(mlp(im1[0]),1)\n",
    "im2 = trainData[15112]\n",
    "_,id2 = torch.max(mlp(im2[0]),1)\n",
    "im3 = trainData[37420]\n",
    "_,id3 = torch.max(mlp(im3[0]),1)"
   ]
  },
  {
   "cell_type": "code",
   "execution_count": 93,
   "id": "65eb6ed5-f37d-40bd-820d-53110ce69b45",
   "metadata": {},
   "outputs": [
    {
     "data": {
      "image/png": "[encoded data removed]",
      "text/plain": [
       "<Figure size 640x480 with 3 Axes>"
      ]
     },
     "metadata": {},
     "output_type": "display_data"
    }
   ],
   "source": [
    "plt.figure()\n",
    "\n",
    "plt.subplot(131)\n",
    "plt.axis('off')\n",
    "plt.title(\"T: %s | P: %s\" %(classes[label1],classes[id1]))\n",
    "plt.imshow(img1)\n",
    "\n",
    "plt.subplot(132)\n",
    "plt.axis('off')\n",
    "plt.title(\"T: %s | P: %s\" %(classes[label2],classes[id2]))\n",
    "plt.imshow(img2)\n",
    "\n",
    "plt.subplot(133)\n",
    "plt.axis('off')\n",
    "plt.title(\"T: %s | P: %s\" %(classes[label3],classes[id3]))\n",
    "plt.imshow(img3)\n",
    "\n",
    "plt.show()"
   ]
  },
  {
   "cell_type": "code",
   "execution_count": 96,
   "id": "ec4a68a3-3b3d-4a6e-a7ad-b8412088d7a4",
   "metadata": {},
   "outputs": [],
   "source": [
    "# Under 3 layer MLP limitation, \n",
    "# the model has an accuracy of about 50% on test set \n",
    "# after 30 epochs due to device limitation\n",
    "\n",
    "# With 2 cn layer, 1 pool, 3 full conncect layers\n",
    "# the cnn model has an accuracy of about 60% \n",
    "# # after 30 epochs due to device limitation"
   ]
  },
  {
   "cell_type": "code",
   "execution_count": null,
   "id": "e9bdc420-d2df-4c5a-864b-019ddee71ab4",
   "metadata": {},
   "outputs": [],
   "source": []
  }
 ],
 "metadata": {
  "kernelspec": {
   "display_name": "Python 3 (ipykernel)",
   "language": "python",
   "name": "python3"
  },
  "language_info": {
   "codemirror_mode": {
    "name": "ipython",
    "version": 3
   },
   "file_extension": ".py",
   "mimetype": "text/x-python",
   "name": "python",
   "nbconvert_exporter": "python",
   "pygments_lexer": "ipython3",
   "version": "3.12.4"
  }
 },
 "nbformat": 4,
 "nbformat_minor": 5
}
